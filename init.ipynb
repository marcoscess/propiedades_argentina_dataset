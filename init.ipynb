{
 "cells": [
  {
   "cell_type": "markdown",
   "id": "a4f956cf",
   "metadata": {},
   "source": [
    "## Primer entrega Data scientis. \n",
    "## Alumno: Marcos Cespedes\n",
    "## Dataset: Propiedades de Argentina 2019 - 2020"
   ]
  },
  {
   "cell_type": "code",
   "execution_count": 42,
   "id": "ecee78bd",
   "metadata": {},
   "outputs": [],
   "source": [
    "import pandas as pd\n",
    "import numpy as np\n",
    "import matplotlib.pyplot as plt\n",
    "import seaborn as sns"
   ]
  },
  {
   "cell_type": "code",
   "execution_count": 43,
   "id": "46c1b193",
   "metadata": {},
   "outputs": [],
   "source": [
    "df = pd.read_csv(\"ProyectoDS_propiedades_ARG_Cespedes.csv\", encoding=\"utf-8\")"
   ]
  },
  {
   "cell_type": "markdown",
   "id": "21ef162c",
   "metadata": {},
   "source": [
    "## Inspección Inicial"
   ]
  },
  {
   "cell_type": "code",
   "execution_count": 44,
   "id": "b29dfbe5",
   "metadata": {},
   "outputs": [
    {
     "data": {
      "text/html": [
       "<div>\n",
       "<style scoped>\n",
       "    .dataframe tbody tr th:only-of-type {\n",
       "        vertical-align: middle;\n",
       "    }\n",
       "\n",
       "    .dataframe tbody tr th {\n",
       "        vertical-align: top;\n",
       "    }\n",
       "\n",
       "    .dataframe thead th {\n",
       "        text-align: right;\n",
       "    }\n",
       "</style>\n",
       "<table border=\"1\" class=\"dataframe\">\n",
       "  <thead>\n",
       "    <tr style=\"text-align: right;\">\n",
       "      <th></th>\n",
       "      <th>id</th>\n",
       "      <th>ad_type</th>\n",
       "      <th>start_date</th>\n",
       "      <th>end_date</th>\n",
       "      <th>created_on</th>\n",
       "      <th>lat</th>\n",
       "      <th>lon</th>\n",
       "      <th>l1</th>\n",
       "      <th>l2</th>\n",
       "      <th>l3</th>\n",
       "      <th>...</th>\n",
       "      <th>bathrooms</th>\n",
       "      <th>surface_total</th>\n",
       "      <th>surface_covered</th>\n",
       "      <th>currency</th>\n",
       "      <th>price_period</th>\n",
       "      <th>title</th>\n",
       "      <th>description</th>\n",
       "      <th>property_type</th>\n",
       "      <th>operation_type</th>\n",
       "      <th>price</th>\n",
       "    </tr>\n",
       "  </thead>\n",
       "  <tbody>\n",
       "    <tr>\n",
       "      <th>0</th>\n",
       "      <td>556713</td>\n",
       "      <td>Propiedad</td>\n",
       "      <td>2019-11-29</td>\n",
       "      <td>9999-12-31</td>\n",
       "      <td>2019-11-29</td>\n",
       "      <td>-58.442399</td>\n",
       "      <td>-34.573623</td>\n",
       "      <td>Argentina</td>\n",
       "      <td>Capital Federal</td>\n",
       "      <td>Colegiales</td>\n",
       "      <td>...</td>\n",
       "      <td>2.0</td>\n",
       "      <td>NaN</td>\n",
       "      <td>NaN</td>\n",
       "      <td>USD</td>\n",
       "      <td>NaN</td>\n",
       "      <td>Departamento en Venta en Belgrano, Capital fed...</td>\n",
       "      <td>Sup total por escritura: 96,47 m2 (cubiertos: ...</td>\n",
       "      <td>Departamento</td>\n",
       "      <td>Venta</td>\n",
       "      <td>259000.0</td>\n",
       "    </tr>\n",
       "    <tr>\n",
       "      <th>1</th>\n",
       "      <td>192912</td>\n",
       "      <td>Propiedad</td>\n",
       "      <td>2020-06-05</td>\n",
       "      <td>2020-06-08</td>\n",
       "      <td>2020-06-05</td>\n",
       "      <td>-58.430493</td>\n",
       "      <td>-34.606620</td>\n",
       "      <td>Argentina</td>\n",
       "      <td>Capital Federal</td>\n",
       "      <td>Almagro</td>\n",
       "      <td>...</td>\n",
       "      <td>2.0</td>\n",
       "      <td>77.0</td>\n",
       "      <td>67.0</td>\n",
       "      <td>USD</td>\n",
       "      <td>NaN</td>\n",
       "      <td>Departamento de 3 ambientes en Venta en Almagro</td>\n",
       "      <td>Excelente departamento de tres ambientes ampli...</td>\n",
       "      <td>Departamento</td>\n",
       "      <td>Venta</td>\n",
       "      <td>235500.0</td>\n",
       "    </tr>\n",
       "    <tr>\n",
       "      <th>2</th>\n",
       "      <td>238224</td>\n",
       "      <td>Propiedad</td>\n",
       "      <td>2020-07-01</td>\n",
       "      <td>9999-12-31</td>\n",
       "      <td>2020-07-01</td>\n",
       "      <td>-58.491760</td>\n",
       "      <td>-34.574123</td>\n",
       "      <td>Argentina</td>\n",
       "      <td>Capital Federal</td>\n",
       "      <td>Villa Urquiza</td>\n",
       "      <td>...</td>\n",
       "      <td>1.0</td>\n",
       "      <td>60.0</td>\n",
       "      <td>55.0</td>\n",
       "      <td>USD</td>\n",
       "      <td>NaN</td>\n",
       "      <td>Andonaegui   2600 4°  -  - Departamento en Venta</td>\n",
       "      <td>Excelente 3 ambientes al frente con balcón. Vi...</td>\n",
       "      <td>Departamento</td>\n",
       "      <td>Venta</td>\n",
       "      <td>175000.0</td>\n",
       "    </tr>\n",
       "    <tr>\n",
       "      <th>3</th>\n",
       "      <td>257134</td>\n",
       "      <td>Propiedad</td>\n",
       "      <td>2019-08-17</td>\n",
       "      <td>9999-12-31</td>\n",
       "      <td>2019-08-17</td>\n",
       "      <td>-58.420737</td>\n",
       "      <td>-34.631770</td>\n",
       "      <td>Argentina</td>\n",
       "      <td>Capital Federal</td>\n",
       "      <td>Boedo</td>\n",
       "      <td>...</td>\n",
       "      <td>1.0</td>\n",
       "      <td>74.0</td>\n",
       "      <td>47.0</td>\n",
       "      <td>USD</td>\n",
       "      <td>NaN</td>\n",
       "      <td>PH Venta Boedo 2 amb Patio</td>\n",
       "      <td>Corredor Responsable: MARCELO TRUJILLO -  CPI ...</td>\n",
       "      <td>PH</td>\n",
       "      <td>Venta</td>\n",
       "      <td>140000.0</td>\n",
       "    </tr>\n",
       "    <tr>\n",
       "      <th>4</th>\n",
       "      <td>521738</td>\n",
       "      <td>Propiedad</td>\n",
       "      <td>2019-08-05</td>\n",
       "      <td>2019-08-31</td>\n",
       "      <td>2019-08-05</td>\n",
       "      <td>-58.429983</td>\n",
       "      <td>-34.607225</td>\n",
       "      <td>Argentina</td>\n",
       "      <td>Capital Federal</td>\n",
       "      <td>Almagro</td>\n",
       "      <td>...</td>\n",
       "      <td>1.0</td>\n",
       "      <td>66.0</td>\n",
       "      <td>64.0</td>\n",
       "      <td>USD</td>\n",
       "      <td>NaN</td>\n",
       "      <td>Venta 3 Ambientes - Almagro - Balcón - Ameniti...</td>\n",
       "      <td>Corredor Responsable: Marcelo Trujillo - CUCIC...</td>\n",
       "      <td>Departamento</td>\n",
       "      <td>Venta</td>\n",
       "      <td>173000.0</td>\n",
       "    </tr>\n",
       "  </tbody>\n",
       "</table>\n",
       "<p>5 rows × 25 columns</p>\n",
       "</div>"
      ],
      "text/plain": [
       "       id    ad_type  start_date    end_date  created_on        lat  \\\n",
       "0  556713  Propiedad  2019-11-29  9999-12-31  2019-11-29 -58.442399   \n",
       "1  192912  Propiedad  2020-06-05  2020-06-08  2020-06-05 -58.430493   \n",
       "2  238224  Propiedad  2020-07-01  9999-12-31  2020-07-01 -58.491760   \n",
       "3  257134  Propiedad  2019-08-17  9999-12-31  2019-08-17 -58.420737   \n",
       "4  521738  Propiedad  2019-08-05  2019-08-31  2019-08-05 -58.429983   \n",
       "\n",
       "         lon         l1               l2             l3  ... bathrooms  \\\n",
       "0 -34.573623  Argentina  Capital Federal     Colegiales  ...       2.0   \n",
       "1 -34.606620  Argentina  Capital Federal        Almagro  ...       2.0   \n",
       "2 -34.574123  Argentina  Capital Federal  Villa Urquiza  ...       1.0   \n",
       "3 -34.631770  Argentina  Capital Federal          Boedo  ...       1.0   \n",
       "4 -34.607225  Argentina  Capital Federal        Almagro  ...       1.0   \n",
       "\n",
       "  surface_total  surface_covered  currency  price_period  \\\n",
       "0           NaN              NaN       USD           NaN   \n",
       "1          77.0             67.0       USD           NaN   \n",
       "2          60.0             55.0       USD           NaN   \n",
       "3          74.0             47.0       USD           NaN   \n",
       "4          66.0             64.0       USD           NaN   \n",
       "\n",
       "                                               title  \\\n",
       "0  Departamento en Venta en Belgrano, Capital fed...   \n",
       "1    Departamento de 3 ambientes en Venta en Almagro   \n",
       "2   Andonaegui   2600 4°  -  - Departamento en Venta   \n",
       "3                         PH Venta Boedo 2 amb Patio   \n",
       "4  Venta 3 Ambientes - Almagro - Balcón - Ameniti...   \n",
       "\n",
       "                                         description  property_type  \\\n",
       "0  Sup total por escritura: 96,47 m2 (cubiertos: ...   Departamento   \n",
       "1  Excelente departamento de tres ambientes ampli...   Departamento   \n",
       "2  Excelente 3 ambientes al frente con balcón. Vi...   Departamento   \n",
       "3  Corredor Responsable: MARCELO TRUJILLO -  CPI ...             PH   \n",
       "4  Corredor Responsable: Marcelo Trujillo - CUCIC...   Departamento   \n",
       "\n",
       "  operation_type     price  \n",
       "0          Venta  259000.0  \n",
       "1          Venta  235500.0  \n",
       "2          Venta  175000.0  \n",
       "3          Venta  140000.0  \n",
       "4          Venta  173000.0  \n",
       "\n",
       "[5 rows x 25 columns]"
      ]
     },
     "execution_count": 44,
     "metadata": {},
     "output_type": "execute_result"
    }
   ],
   "source": [
    "df.head()"
   ]
  },
  {
   "cell_type": "code",
   "execution_count": 45,
   "id": "54ca58f5",
   "metadata": {},
   "outputs": [
    {
     "data": {
      "text/html": [
       "<div>\n",
       "<style scoped>\n",
       "    .dataframe tbody tr th:only-of-type {\n",
       "        vertical-align: middle;\n",
       "    }\n",
       "\n",
       "    .dataframe tbody tr th {\n",
       "        vertical-align: top;\n",
       "    }\n",
       "\n",
       "    .dataframe thead th {\n",
       "        text-align: right;\n",
       "    }\n",
       "</style>\n",
       "<table border=\"1\" class=\"dataframe\">\n",
       "  <thead>\n",
       "    <tr style=\"text-align: right;\">\n",
       "      <th></th>\n",
       "      <th>id</th>\n",
       "      <th>ad_type</th>\n",
       "      <th>start_date</th>\n",
       "      <th>end_date</th>\n",
       "      <th>created_on</th>\n",
       "      <th>lat</th>\n",
       "      <th>lon</th>\n",
       "      <th>l1</th>\n",
       "      <th>l2</th>\n",
       "      <th>l3</th>\n",
       "      <th>...</th>\n",
       "      <th>bathrooms</th>\n",
       "      <th>surface_total</th>\n",
       "      <th>surface_covered</th>\n",
       "      <th>currency</th>\n",
       "      <th>price_period</th>\n",
       "      <th>title</th>\n",
       "      <th>description</th>\n",
       "      <th>property_type</th>\n",
       "      <th>operation_type</th>\n",
       "      <th>price</th>\n",
       "    </tr>\n",
       "  </thead>\n",
       "  <tbody>\n",
       "    <tr>\n",
       "      <th>992187</th>\n",
       "      <td>999996</td>\n",
       "      <td>Propiedad</td>\n",
       "      <td>2020-01-09</td>\n",
       "      <td>2020-04-27</td>\n",
       "      <td>2020-01-09</td>\n",
       "      <td>-57.575169</td>\n",
       "      <td>-38.042062</td>\n",
       "      <td>Argentina</td>\n",
       "      <td>Buenos Aires Costa Atlántica</td>\n",
       "      <td>Mar del Plata</td>\n",
       "      <td>...</td>\n",
       "      <td>5.0</td>\n",
       "      <td>NaN</td>\n",
       "      <td>NaN</td>\n",
       "      <td>USD</td>\n",
       "      <td>NaN</td>\n",
       "      <td>Venta en Bloque</td>\n",
       "      <td>Venta en bloque de esta importante propiedad. ...</td>\n",
       "      <td>Casa</td>\n",
       "      <td>Venta</td>\n",
       "      <td>190000.0</td>\n",
       "    </tr>\n",
       "    <tr>\n",
       "      <th>992188</th>\n",
       "      <td>999997</td>\n",
       "      <td>Propiedad</td>\n",
       "      <td>2020-01-09</td>\n",
       "      <td>2020-04-27</td>\n",
       "      <td>2020-01-09</td>\n",
       "      <td>-68.860929</td>\n",
       "      <td>-32.953935</td>\n",
       "      <td>Argentina</td>\n",
       "      <td>Mendoza</td>\n",
       "      <td>Cuadro Benegas</td>\n",
       "      <td>...</td>\n",
       "      <td>5.0</td>\n",
       "      <td>NaN</td>\n",
       "      <td>NaN</td>\n",
       "      <td>USD</td>\n",
       "      <td>NaN</td>\n",
       "      <td>PALMARES SEGUNDA ETAPA</td>\n",
       "      <td>RIVEROS PROPIEDADES VENDE: Casa Desarrollada E...</td>\n",
       "      <td>Casa</td>\n",
       "      <td>Venta</td>\n",
       "      <td>520000.0</td>\n",
       "    </tr>\n",
       "    <tr>\n",
       "      <th>992189</th>\n",
       "      <td>999998</td>\n",
       "      <td>Propiedad</td>\n",
       "      <td>2020-01-09</td>\n",
       "      <td>2020-04-27</td>\n",
       "      <td>2020-01-09</td>\n",
       "      <td>-57.963191</td>\n",
       "      <td>-34.920051</td>\n",
       "      <td>Argentina</td>\n",
       "      <td>Bs.As. G.B.A. Zona Sur</td>\n",
       "      <td>La Plata</td>\n",
       "      <td>...</td>\n",
       "      <td>5.0</td>\n",
       "      <td>NaN</td>\n",
       "      <td>NaN</td>\n",
       "      <td>ARS</td>\n",
       "      <td>NaN</td>\n",
       "      <td>Departamento en Alquiler, 44mts, 0 dormitorios...</td>\n",
       "      <td>16  N&amp;deg;706 y 46   se alquila monoambiente e...</td>\n",
       "      <td>Departamento</td>\n",
       "      <td>Alquiler</td>\n",
       "      <td>12000.0</td>\n",
       "    </tr>\n",
       "    <tr>\n",
       "      <th>992190</th>\n",
       "      <td>999999</td>\n",
       "      <td>Propiedad</td>\n",
       "      <td>2020-01-09</td>\n",
       "      <td>2020-04-28</td>\n",
       "      <td>2020-01-09</td>\n",
       "      <td>-57.549815</td>\n",
       "      <td>-38.020436</td>\n",
       "      <td>Argentina</td>\n",
       "      <td>Buenos Aires Costa Atlántica</td>\n",
       "      <td>Mar del Plata</td>\n",
       "      <td>...</td>\n",
       "      <td>5.0</td>\n",
       "      <td>NaN</td>\n",
       "      <td>NaN</td>\n",
       "      <td>USD</td>\n",
       "      <td>NaN</td>\n",
       "      <td>IMPORTANTE RESIDENCIA EN DIVINO ROSTRO</td>\n",
       "      <td>En importante ubicación del tradicional Barrio...</td>\n",
       "      <td>Casa</td>\n",
       "      <td>Venta</td>\n",
       "      <td>550000.0</td>\n",
       "    </tr>\n",
       "    <tr>\n",
       "      <th>992191</th>\n",
       "      <td>1000000</td>\n",
       "      <td>Propiedad</td>\n",
       "      <td>2020-01-09</td>\n",
       "      <td>2020-04-28</td>\n",
       "      <td>2020-01-09</td>\n",
       "      <td>NaN</td>\n",
       "      <td>NaN</td>\n",
       "      <td>Argentina</td>\n",
       "      <td>Capital Federal</td>\n",
       "      <td>NaN</td>\n",
       "      <td>...</td>\n",
       "      <td>5.0</td>\n",
       "      <td>NaN</td>\n",
       "      <td>NaN</td>\n",
       "      <td>ARS</td>\n",
       "      <td>NaN</td>\n",
       "      <td>BARBARO ALQUILA LOCALES EN SAN MARTIN CENTRO</td>\n",
       "      <td>Barbaro Alquila  Galpon , la superficie cubier...</td>\n",
       "      <td>Otro</td>\n",
       "      <td>Venta</td>\n",
       "      <td>800000.0</td>\n",
       "    </tr>\n",
       "  </tbody>\n",
       "</table>\n",
       "<p>5 rows × 25 columns</p>\n",
       "</div>"
      ],
      "text/plain": [
       "             id    ad_type  start_date    end_date  created_on        lat  \\\n",
       "992187   999996  Propiedad  2020-01-09  2020-04-27  2020-01-09 -57.575169   \n",
       "992188   999997  Propiedad  2020-01-09  2020-04-27  2020-01-09 -68.860929   \n",
       "992189   999998  Propiedad  2020-01-09  2020-04-27  2020-01-09 -57.963191   \n",
       "992190   999999  Propiedad  2020-01-09  2020-04-28  2020-01-09 -57.549815   \n",
       "992191  1000000  Propiedad  2020-01-09  2020-04-28  2020-01-09        NaN   \n",
       "\n",
       "              lon         l1                            l2              l3  \\\n",
       "992187 -38.042062  Argentina  Buenos Aires Costa Atlántica   Mar del Plata   \n",
       "992188 -32.953935  Argentina                       Mendoza  Cuadro Benegas   \n",
       "992189 -34.920051  Argentina        Bs.As. G.B.A. Zona Sur        La Plata   \n",
       "992190 -38.020436  Argentina  Buenos Aires Costa Atlántica   Mar del Plata   \n",
       "992191        NaN  Argentina               Capital Federal             NaN   \n",
       "\n",
       "        ... bathrooms surface_total  surface_covered  currency  price_period  \\\n",
       "992187  ...       5.0           NaN              NaN       USD           NaN   \n",
       "992188  ...       5.0           NaN              NaN       USD           NaN   \n",
       "992189  ...       5.0           NaN              NaN       ARS           NaN   \n",
       "992190  ...       5.0           NaN              NaN       USD           NaN   \n",
       "992191  ...       5.0           NaN              NaN       ARS           NaN   \n",
       "\n",
       "                                                    title  \\\n",
       "992187                                    Venta en Bloque   \n",
       "992188                             PALMARES SEGUNDA ETAPA   \n",
       "992189  Departamento en Alquiler, 44mts, 0 dormitorios...   \n",
       "992190             IMPORTANTE RESIDENCIA EN DIVINO ROSTRO   \n",
       "992191       BARBARO ALQUILA LOCALES EN SAN MARTIN CENTRO   \n",
       "\n",
       "                                              description  property_type  \\\n",
       "992187  Venta en bloque de esta importante propiedad. ...           Casa   \n",
       "992188  RIVEROS PROPIEDADES VENDE: Casa Desarrollada E...           Casa   \n",
       "992189  16  N&deg;706 y 46   se alquila monoambiente e...   Departamento   \n",
       "992190  En importante ubicación del tradicional Barrio...           Casa   \n",
       "992191  Barbaro Alquila  Galpon , la superficie cubier...           Otro   \n",
       "\n",
       "       operation_type     price  \n",
       "992187          Venta  190000.0  \n",
       "992188          Venta  520000.0  \n",
       "992189       Alquiler   12000.0  \n",
       "992190          Venta  550000.0  \n",
       "992191          Venta  800000.0  \n",
       "\n",
       "[5 rows x 25 columns]"
      ]
     },
     "execution_count": 45,
     "metadata": {},
     "output_type": "execute_result"
    }
   ],
   "source": [
    "df.tail()"
   ]
  },
  {
   "cell_type": "code",
   "execution_count": 46,
   "id": "7e71d12e",
   "metadata": {},
   "outputs": [
    {
     "name": "stdout",
     "output_type": "stream",
     "text": [
      "<class 'pandas.core.frame.DataFrame'>\n",
      "RangeIndex: 992192 entries, 0 to 992191\n",
      "Data columns (total 25 columns):\n",
      " #   Column           Non-Null Count   Dtype  \n",
      "---  ------           --------------   -----  \n",
      " 0   id               992192 non-null  int64  \n",
      " 1   ad_type          992192 non-null  object \n",
      " 2   start_date       992192 non-null  object \n",
      " 3   end_date         992192 non-null  object \n",
      " 4   created_on       992192 non-null  object \n",
      " 5   lat              838994 non-null  float64\n",
      " 6   lon              839929 non-null  float64\n",
      " 7   l1               992192 non-null  object \n",
      " 8   l2               992192 non-null  object \n",
      " 9   l3               934737 non-null  object \n",
      " 10  l4               225395 non-null  object \n",
      " 11  l5               4711 non-null    object \n",
      " 12  l6               0 non-null       float64\n",
      " 13  rooms            503045 non-null  float64\n",
      " 14  bedrooms         390699 non-null  float64\n",
      " 15  bathrooms        773021 non-null  float64\n",
      " 16  surface_total    448164 non-null  float64\n",
      " 17  surface_covered  436961 non-null  float64\n",
      " 18  currency         944941 non-null  object \n",
      " 19  price_period     369939 non-null  object \n",
      " 20  title            992164 non-null  object \n",
      " 21  description      992170 non-null  object \n",
      " 22  property_type    992192 non-null  object \n",
      " 23  operation_type   992192 non-null  object \n",
      " 24  price            947811 non-null  float64\n",
      "dtypes: float64(9), int64(1), object(15)\n",
      "memory usage: 189.2+ MB\n"
     ]
    }
   ],
   "source": [
    "df.info()"
   ]
  },
  {
   "cell_type": "code",
   "execution_count": 47,
   "id": "a63764b5",
   "metadata": {},
   "outputs": [
    {
     "data": {
      "text/plain": [
       "id                 992192\n",
       "ad_type                 1\n",
       "start_date            346\n",
       "end_date              450\n",
       "created_on            346\n",
       "lat                317046\n",
       "lon                315745\n",
       "l1                      4\n",
       "l2                     42\n",
       "l3                   1262\n",
       "l4                    976\n",
       "l5                     21\n",
       "l6                      0\n",
       "rooms                  37\n",
       "bedrooms               83\n",
       "bathrooms              20\n",
       "surface_total        4821\n",
       "surface_covered      2607\n",
       "currency                4\n",
       "price_period            3\n",
       "title              454605\n",
       "description        638785\n",
       "property_type          10\n",
       "operation_type          3\n",
       "price               18833\n",
       "dtype: int64"
      ]
     },
     "execution_count": 47,
     "metadata": {},
     "output_type": "execute_result"
    }
   ],
   "source": [
    "df.nunique()"
   ]
  },
  {
   "cell_type": "code",
   "execution_count": 48,
   "id": "734ec6f0",
   "metadata": {},
   "outputs": [
    {
     "data": {
      "text/html": [
       "<div>\n",
       "<style scoped>\n",
       "    .dataframe tbody tr th:only-of-type {\n",
       "        vertical-align: middle;\n",
       "    }\n",
       "\n",
       "    .dataframe tbody tr th {\n",
       "        vertical-align: top;\n",
       "    }\n",
       "\n",
       "    .dataframe thead th {\n",
       "        text-align: right;\n",
       "    }\n",
       "</style>\n",
       "<table border=\"1\" class=\"dataframe\">\n",
       "  <thead>\n",
       "    <tr style=\"text-align: right;\">\n",
       "      <th></th>\n",
       "      <th>id</th>\n",
       "      <th>lat</th>\n",
       "      <th>lon</th>\n",
       "      <th>l6</th>\n",
       "      <th>rooms</th>\n",
       "      <th>bedrooms</th>\n",
       "      <th>bathrooms</th>\n",
       "      <th>surface_total</th>\n",
       "      <th>surface_covered</th>\n",
       "      <th>price</th>\n",
       "    </tr>\n",
       "  </thead>\n",
       "  <tbody>\n",
       "    <tr>\n",
       "      <th>count</th>\n",
       "      <td>992192.000000</td>\n",
       "      <td>838994.000000</td>\n",
       "      <td>839929.000000</td>\n",
       "      <td>0.0</td>\n",
       "      <td>503045.000000</td>\n",
       "      <td>390699.000000</td>\n",
       "      <td>773021.000000</td>\n",
       "      <td>448164.00000</td>\n",
       "      <td>4.369610e+05</td>\n",
       "      <td>9.478110e+05</td>\n",
       "    </tr>\n",
       "    <tr>\n",
       "      <th>mean</th>\n",
       "      <td>500338.438758</td>\n",
       "      <td>-59.266586</td>\n",
       "      <td>-34.793745</td>\n",
       "      <td>NaN</td>\n",
       "      <td>2.858577</td>\n",
       "      <td>2.086094</td>\n",
       "      <td>1.697637</td>\n",
       "      <td>493.51136</td>\n",
       "      <td>5.769533e+02</td>\n",
       "      <td>2.881687e+05</td>\n",
       "    </tr>\n",
       "    <tr>\n",
       "      <th>std</th>\n",
       "      <td>288685.497758</td>\n",
       "      <td>2.707383</td>\n",
       "      <td>3.066257</td>\n",
       "      <td>NaN</td>\n",
       "      <td>1.682454</td>\n",
       "      <td>2.705342</td>\n",
       "      <td>1.072722</td>\n",
       "      <td>4101.38179</td>\n",
       "      <td>7.383998e+04</td>\n",
       "      <td>5.560863e+06</td>\n",
       "    </tr>\n",
       "    <tr>\n",
       "      <th>min</th>\n",
       "      <td>1.000000</td>\n",
       "      <td>-180.000000</td>\n",
       "      <td>-54.842464</td>\n",
       "      <td>NaN</td>\n",
       "      <td>1.000000</td>\n",
       "      <td>-13.000000</td>\n",
       "      <td>1.000000</td>\n",
       "      <td>-200.00000</td>\n",
       "      <td>-1.700000e+02</td>\n",
       "      <td>0.000000e+00</td>\n",
       "    </tr>\n",
       "    <tr>\n",
       "      <th>25%</th>\n",
       "      <td>250259.750000</td>\n",
       "      <td>-58.756011</td>\n",
       "      <td>-34.921709</td>\n",
       "      <td>NaN</td>\n",
       "      <td>2.000000</td>\n",
       "      <td>1.000000</td>\n",
       "      <td>1.000000</td>\n",
       "      <td>50.00000</td>\n",
       "      <td>4.500000e+01</td>\n",
       "      <td>3.900000e+04</td>\n",
       "    </tr>\n",
       "    <tr>\n",
       "      <th>50%</th>\n",
       "      <td>500641.500000</td>\n",
       "      <td>-58.444383</td>\n",
       "      <td>-34.610508</td>\n",
       "      <td>NaN</td>\n",
       "      <td>3.000000</td>\n",
       "      <td>2.000000</td>\n",
       "      <td>1.000000</td>\n",
       "      <td>95.00000</td>\n",
       "      <td>7.500000e+01</td>\n",
       "      <td>9.800000e+04</td>\n",
       "    </tr>\n",
       "    <tr>\n",
       "      <th>75%</th>\n",
       "      <td>750507.250000</td>\n",
       "      <td>-58.058983</td>\n",
       "      <td>-34.459156</td>\n",
       "      <td>NaN</td>\n",
       "      <td>4.000000</td>\n",
       "      <td>3.000000</td>\n",
       "      <td>2.000000</td>\n",
       "      <td>270.00000</td>\n",
       "      <td>1.550000e+02</td>\n",
       "      <td>2.100000e+05</td>\n",
       "    </tr>\n",
       "    <tr>\n",
       "      <th>max</th>\n",
       "      <td>1000000.000000</td>\n",
       "      <td>-35.045025</td>\n",
       "      <td>85.051129</td>\n",
       "      <td>NaN</td>\n",
       "      <td>40.000000</td>\n",
       "      <td>900.000000</td>\n",
       "      <td>20.000000</td>\n",
       "      <td>200000.00000</td>\n",
       "      <td>2.700000e+07</td>\n",
       "      <td>3.100000e+09</td>\n",
       "    </tr>\n",
       "  </tbody>\n",
       "</table>\n",
       "</div>"
      ],
      "text/plain": [
       "                   id            lat            lon   l6          rooms  \\\n",
       "count   992192.000000  838994.000000  839929.000000  0.0  503045.000000   \n",
       "mean    500338.438758     -59.266586     -34.793745  NaN       2.858577   \n",
       "std     288685.497758       2.707383       3.066257  NaN       1.682454   \n",
       "min          1.000000    -180.000000     -54.842464  NaN       1.000000   \n",
       "25%     250259.750000     -58.756011     -34.921709  NaN       2.000000   \n",
       "50%     500641.500000     -58.444383     -34.610508  NaN       3.000000   \n",
       "75%     750507.250000     -58.058983     -34.459156  NaN       4.000000   \n",
       "max    1000000.000000     -35.045025      85.051129  NaN      40.000000   \n",
       "\n",
       "            bedrooms      bathrooms  surface_total  surface_covered  \\\n",
       "count  390699.000000  773021.000000   448164.00000     4.369610e+05   \n",
       "mean        2.086094       1.697637      493.51136     5.769533e+02   \n",
       "std         2.705342       1.072722     4101.38179     7.383998e+04   \n",
       "min       -13.000000       1.000000     -200.00000    -1.700000e+02   \n",
       "25%         1.000000       1.000000       50.00000     4.500000e+01   \n",
       "50%         2.000000       1.000000       95.00000     7.500000e+01   \n",
       "75%         3.000000       2.000000      270.00000     1.550000e+02   \n",
       "max       900.000000      20.000000   200000.00000     2.700000e+07   \n",
       "\n",
       "              price  \n",
       "count  9.478110e+05  \n",
       "mean   2.881687e+05  \n",
       "std    5.560863e+06  \n",
       "min    0.000000e+00  \n",
       "25%    3.900000e+04  \n",
       "50%    9.800000e+04  \n",
       "75%    2.100000e+05  \n",
       "max    3.100000e+09  "
      ]
     },
     "execution_count": 48,
     "metadata": {},
     "output_type": "execute_result"
    }
   ],
   "source": [
    "df.describe()"
   ]
  },
  {
   "cell_type": "markdown",
   "id": "8d1a9db7",
   "metadata": {},
   "source": [
    "## Limpieza de datos y Corrección"
   ]
  },
  {
   "cell_type": "code",
   "execution_count": 49,
   "id": "ea93c7a0",
   "metadata": {},
   "outputs": [
    {
     "data": {
      "text/plain": [
       "id                      0\n",
       "ad_type                 0\n",
       "start_date              0\n",
       "end_date                0\n",
       "created_on              0\n",
       "lat                153198\n",
       "lon                152263\n",
       "l1                      0\n",
       "l2                      0\n",
       "l3                  57455\n",
       "l4                 766797\n",
       "l5                 987481\n",
       "l6                 992192\n",
       "rooms              489147\n",
       "bedrooms           601493\n",
       "bathrooms          219171\n",
       "surface_total      544028\n",
       "surface_covered    555231\n",
       "currency            47251\n",
       "price_period       622253\n",
       "title                  28\n",
       "description            22\n",
       "property_type           0\n",
       "operation_type          0\n",
       "price               44381\n",
       "dtype: int64"
      ]
     },
     "execution_count": 49,
     "metadata": {},
     "output_type": "execute_result"
    }
   ],
   "source": [
    "df.isnull().sum()"
   ]
  },
  {
   "cell_type": "code",
   "execution_count": 50,
   "id": "67497843",
   "metadata": {},
   "outputs": [
    {
     "data": {
      "text/html": [
       "<div>\n",
       "<style scoped>\n",
       "    .dataframe tbody tr th:only-of-type {\n",
       "        vertical-align: middle;\n",
       "    }\n",
       "\n",
       "    .dataframe tbody tr th {\n",
       "        vertical-align: top;\n",
       "    }\n",
       "\n",
       "    .dataframe thead th {\n",
       "        text-align: right;\n",
       "    }\n",
       "</style>\n",
       "<table border=\"1\" class=\"dataframe\">\n",
       "  <thead>\n",
       "    <tr style=\"text-align: right;\">\n",
       "      <th></th>\n",
       "      <th>id</th>\n",
       "      <th>ad_type</th>\n",
       "      <th>start_date</th>\n",
       "      <th>end_date</th>\n",
       "      <th>created_on</th>\n",
       "      <th>lat</th>\n",
       "      <th>lon</th>\n",
       "      <th>l1</th>\n",
       "      <th>l2</th>\n",
       "      <th>l3</th>\n",
       "      <th>...</th>\n",
       "      <th>bathrooms</th>\n",
       "      <th>surface_total</th>\n",
       "      <th>surface_covered</th>\n",
       "      <th>currency</th>\n",
       "      <th>price_period</th>\n",
       "      <th>title</th>\n",
       "      <th>description</th>\n",
       "      <th>property_type</th>\n",
       "      <th>operation_type</th>\n",
       "      <th>price</th>\n",
       "    </tr>\n",
       "  </thead>\n",
       "  <tbody>\n",
       "  </tbody>\n",
       "</table>\n",
       "<p>0 rows × 25 columns</p>\n",
       "</div>"
      ],
      "text/plain": [
       "Empty DataFrame\n",
       "Columns: [id, ad_type, start_date, end_date, created_on, lat, lon, l1, l2, l3, l4, l5, l6, rooms, bedrooms, bathrooms, surface_total, surface_covered, currency, price_period, title, description, property_type, operation_type, price]\n",
       "Index: []\n",
       "\n",
       "[0 rows x 25 columns]"
      ]
     },
     "execution_count": 50,
     "metadata": {},
     "output_type": "execute_result"
    }
   ],
   "source": [
    "df.dropna()"
   ]
  },
  {
   "cell_type": "code",
   "execution_count": null,
   "id": "503858dd",
   "metadata": {},
   "outputs": [],
   "source": []
  },
  {
   "cell_type": "markdown",
   "id": "e69ad34f",
   "metadata": {},
   "source": [
    "## Ispeccion Propiedades"
   ]
  },
  {
   "cell_type": "code",
   "execution_count": 51,
   "id": "0207108a",
   "metadata": {},
   "outputs": [
    {
     "data": {
      "text/plain": [
       "l1\n",
       "Argentina         973422\n",
       "Uruguay            17929\n",
       "Estados Unidos       783\n",
       "Brasil                58\n",
       "Name: count, dtype: int64"
      ]
     },
     "execution_count": 51,
     "metadata": {},
     "output_type": "execute_result"
    }
   ],
   "source": [
    "df.l1.value_counts()"
   ]
  },
  {
   "cell_type": "code",
   "execution_count": 52,
   "id": "f68d0098",
   "metadata": {},
   "outputs": [
    {
     "data": {
      "text/plain": [
       "l2\n",
       "Capital Federal                 249738\n",
       "Buenos Aires Costa Atlántica    178712\n",
       "Bs.As. G.B.A. Zona Norte        127510\n",
       "Bs.As. G.B.A. Zona Sur          112975\n",
       "Santa Fe                         93111\n",
       "Bs.As. G.B.A. Zona Oeste         73172\n",
       "Córdoba                          60877\n",
       "Buenos Aires Interior            22280\n",
       "Mendoza                          11558\n",
       "Neuquén                          10642\n",
       "Maldonado                        10101\n",
       "Montevideo                        6318\n",
       "Río Negro                         5507\n",
       "Tucumán                           5425\n",
       "Entre Ríos                        5113\n",
       "Misiones                          4981\n",
       "Salta                             3085\n",
       "San Luis                          2101\n",
       "Chaco                             1145\n",
       "Corrientes                        1052\n",
       "San Juan                          1014\n",
       "Chubut                             979\n",
       "La Pampa                           910\n",
       "Colonia                            750\n",
       "Canelones                          607\n",
       "Jujuy                              460\n",
       "Florida                            377\n",
       "Tierra Del Fuego                   305\n",
       "Santa Cruz                         281\n",
       "Catamarca                          202\n",
       "Rocha                              153\n",
       "Michigan                           152\n",
       "Santiago Del Estero                121\n",
       "Maryland                           119\n",
       "Miami                              109\n",
       "La Rioja                            93\n",
       "Formosa                             73\n",
       "Santa Catarina                      43\n",
       "Pennsylvania                        26\n",
       "Rio de Janeiro                      13\n",
       "Rio Grande do Norte                  1\n",
       "São Paulo                            1\n",
       "Name: count, dtype: int64"
      ]
     },
     "execution_count": 52,
     "metadata": {},
     "output_type": "execute_result"
    }
   ],
   "source": [
    "df.l2.value_counts()"
   ]
  },
  {
   "cell_type": "markdown",
   "id": "218bfaa4",
   "metadata": {},
   "source": [
    "## Propiedades por tipo de opeacion"
   ]
  },
  {
   "cell_type": "code",
   "execution_count": 53,
   "id": "6887be1a",
   "metadata": {},
   "outputs": [
    {
     "data": {
      "text/plain": [
       "<Axes: xlabel='operation_type'>"
      ]
     },
     "execution_count": 53,
     "metadata": {},
     "output_type": "execute_result"
    },
    {
     "data": {
      "image/png": "[encoded data removed]",
      "text/plain": [
       "<Figure size 640x480 with 1 Axes>"
      ]
     },
     "metadata": {},
     "output_type": "display_data"
    }
   ],
   "source": [
    "df.operation_type.value_counts().plot(kind= 'bar')"
   ]
  },
  {
   "cell_type": "markdown",
   "id": "a0afc9f6",
   "metadata": {},
   "source": [
    "## Filtrado por la provincia de Cordoba"
   ]
  },
  {
   "cell_type": "code",
   "execution_count": 54,
   "id": "0e3eba7f",
   "metadata": {},
   "outputs": [],
   "source": [
    "df_cordoba = df[(df['l2'] == 'Córdoba')]\n"
   ]
  },
  {
   "cell_type": "code",
   "execution_count": 55,
   "id": "8c6c3b3f",
   "metadata": {},
   "outputs": [],
   "source": [
    "df.dropna(subset=['price_period', 'bathrooms', 'surface_total', 'surface_covered','price'], inplace=True)\n",
    "df_cordoba = df[df['l2'] == 'Córdoba'] \n"
   ]
  },
  {
   "cell_type": "code",
   "execution_count": 56,
   "id": "ad374f17",
   "metadata": {},
   "outputs": [
    {
     "data": {
      "text/html": [
       "<div>\n",
       "<style scoped>\n",
       "    .dataframe tbody tr th:only-of-type {\n",
       "        vertical-align: middle;\n",
       "    }\n",
       "\n",
       "    .dataframe tbody tr th {\n",
       "        vertical-align: top;\n",
       "    }\n",
       "\n",
       "    .dataframe thead th {\n",
       "        text-align: right;\n",
       "    }\n",
       "</style>\n",
       "<table border=\"1\" class=\"dataframe\">\n",
       "  <thead>\n",
       "    <tr style=\"text-align: right;\">\n",
       "      <th></th>\n",
       "      <th>id</th>\n",
       "      <th>ad_type</th>\n",
       "      <th>start_date</th>\n",
       "      <th>end_date</th>\n",
       "      <th>created_on</th>\n",
       "      <th>lat</th>\n",
       "      <th>lon</th>\n",
       "      <th>l1</th>\n",
       "      <th>l2</th>\n",
       "      <th>l3</th>\n",
       "      <th>...</th>\n",
       "      <th>bathrooms</th>\n",
       "      <th>surface_total</th>\n",
       "      <th>surface_covered</th>\n",
       "      <th>currency</th>\n",
       "      <th>price_period</th>\n",
       "      <th>title</th>\n",
       "      <th>description</th>\n",
       "      <th>property_type</th>\n",
       "      <th>operation_type</th>\n",
       "      <th>price</th>\n",
       "    </tr>\n",
       "  </thead>\n",
       "  <tbody>\n",
       "    <tr>\n",
       "      <th>7343</th>\n",
       "      <td>1755</td>\n",
       "      <td>Propiedad</td>\n",
       "      <td>2019-08-26</td>\n",
       "      <td>2019-09-20</td>\n",
       "      <td>2019-08-26</td>\n",
       "      <td>-64.260283</td>\n",
       "      <td>-31.326467</td>\n",
       "      <td>Argentina</td>\n",
       "      <td>Córdoba</td>\n",
       "      <td>Córdoba</td>\n",
       "      <td>...</td>\n",
       "      <td>1.0</td>\n",
       "      <td>60.0</td>\n",
       "      <td>60.0</td>\n",
       "      <td>ARS</td>\n",
       "      <td>Mensual</td>\n",
       "      <td>Alquiler de un 2 dormitorios  Departamento - C...</td>\n",
       "      <td>&lt;br&gt;López Baena Propiedades tiene 2 departamen...</td>\n",
       "      <td>Departamento</td>\n",
       "      <td>Alquiler</td>\n",
       "      <td>12000.0</td>\n",
       "    </tr>\n",
       "    <tr>\n",
       "      <th>7344</th>\n",
       "      <td>1756</td>\n",
       "      <td>Propiedad</td>\n",
       "      <td>2019-08-26</td>\n",
       "      <td>2019-09-11</td>\n",
       "      <td>2019-08-26</td>\n",
       "      <td>-64.207390</td>\n",
       "      <td>-31.363643</td>\n",
       "      <td>Argentina</td>\n",
       "      <td>Córdoba</td>\n",
       "      <td>Córdoba</td>\n",
       "      <td>...</td>\n",
       "      <td>1.0</td>\n",
       "      <td>80.0</td>\n",
       "      <td>70.0</td>\n",
       "      <td>ARS</td>\n",
       "      <td>Mensual</td>\n",
       "      <td>Dos dormitorios -  Terraza propia c/asador -  ...</td>\n",
       "      <td>Inmobiliaria Costamagna ofrece en alquiler est...</td>\n",
       "      <td>Departamento</td>\n",
       "      <td>Alquiler</td>\n",
       "      <td>15400.0</td>\n",
       "    </tr>\n",
       "    <tr>\n",
       "      <th>7345</th>\n",
       "      <td>1757</td>\n",
       "      <td>Propiedad</td>\n",
       "      <td>2019-08-26</td>\n",
       "      <td>2019-12-10</td>\n",
       "      <td>2019-08-26</td>\n",
       "      <td>-64.188446</td>\n",
       "      <td>-31.412139</td>\n",
       "      <td>Argentina</td>\n",
       "      <td>Córdoba</td>\n",
       "      <td>Córdoba</td>\n",
       "      <td>...</td>\n",
       "      <td>2.0</td>\n",
       "      <td>170.0</td>\n",
       "      <td>170.0</td>\n",
       "      <td>ARS</td>\n",
       "      <td>Mensual</td>\n",
       "      <td>En alquiler y Para volver al centro!! Semipiso...</td>\n",
       "      <td>En alquiler un departamento donde te van a ent...</td>\n",
       "      <td>Departamento</td>\n",
       "      <td>Alquiler</td>\n",
       "      <td>20000.0</td>\n",
       "    </tr>\n",
       "    <tr>\n",
       "      <th>7346</th>\n",
       "      <td>1758</td>\n",
       "      <td>Propiedad</td>\n",
       "      <td>2019-08-26</td>\n",
       "      <td>2019-09-26</td>\n",
       "      <td>2019-08-26</td>\n",
       "      <td>-64.185075</td>\n",
       "      <td>-31.423809</td>\n",
       "      <td>Argentina</td>\n",
       "      <td>Córdoba</td>\n",
       "      <td>Córdoba</td>\n",
       "      <td>...</td>\n",
       "      <td>1.0</td>\n",
       "      <td>72.0</td>\n",
       "      <td>72.0</td>\n",
       "      <td>ARS</td>\n",
       "      <td>Mensual</td>\n",
       "      <td>2 DORMITORIOS | San Lorenzo al 100</td>\n",
       "      <td>Alquiler temporario de Departamento 2 DORMITOR...</td>\n",
       "      <td>Departamento</td>\n",
       "      <td>Alquiler temporal</td>\n",
       "      <td>2300.0</td>\n",
       "    </tr>\n",
       "    <tr>\n",
       "      <th>7350</th>\n",
       "      <td>1762</td>\n",
       "      <td>Propiedad</td>\n",
       "      <td>2019-08-26</td>\n",
       "      <td>9999-12-31</td>\n",
       "      <td>2019-08-26</td>\n",
       "      <td>-64.183602</td>\n",
       "      <td>-31.416832</td>\n",
       "      <td>Argentina</td>\n",
       "      <td>Córdoba</td>\n",
       "      <td>Córdoba</td>\n",
       "      <td>...</td>\n",
       "      <td>4.0</td>\n",
       "      <td>520.0</td>\n",
       "      <td>400.0</td>\n",
       "      <td>USD</td>\n",
       "      <td>Mensual</td>\n",
       "      <td>Venta de casa de cinco dormitorios y galpon en...</td>\n",
       "      <td>Importante propiedad ubicada en Barrio San Mar...</td>\n",
       "      <td>Casa</td>\n",
       "      <td>Venta</td>\n",
       "      <td>230000.0</td>\n",
       "    </tr>\n",
       "  </tbody>\n",
       "</table>\n",
       "<p>5 rows × 25 columns</p>\n",
       "</div>"
      ],
      "text/plain": [
       "        id    ad_type  start_date    end_date  created_on        lat  \\\n",
       "7343  1755  Propiedad  2019-08-26  2019-09-20  2019-08-26 -64.260283   \n",
       "7344  1756  Propiedad  2019-08-26  2019-09-11  2019-08-26 -64.207390   \n",
       "7345  1757  Propiedad  2019-08-26  2019-12-10  2019-08-26 -64.188446   \n",
       "7346  1758  Propiedad  2019-08-26  2019-09-26  2019-08-26 -64.185075   \n",
       "7350  1762  Propiedad  2019-08-26  9999-12-31  2019-08-26 -64.183602   \n",
       "\n",
       "            lon         l1       l2       l3  ... bathrooms surface_total  \\\n",
       "7343 -31.326467  Argentina  Córdoba  Córdoba  ...       1.0          60.0   \n",
       "7344 -31.363643  Argentina  Córdoba  Córdoba  ...       1.0          80.0   \n",
       "7345 -31.412139  Argentina  Córdoba  Córdoba  ...       2.0         170.0   \n",
       "7346 -31.423809  Argentina  Córdoba  Córdoba  ...       1.0          72.0   \n",
       "7350 -31.416832  Argentina  Córdoba  Córdoba  ...       4.0         520.0   \n",
       "\n",
       "      surface_covered  currency  price_period  \\\n",
       "7343             60.0       ARS       Mensual   \n",
       "7344             70.0       ARS       Mensual   \n",
       "7345            170.0       ARS       Mensual   \n",
       "7346             72.0       ARS       Mensual   \n",
       "7350            400.0       USD       Mensual   \n",
       "\n",
       "                                                  title  \\\n",
       "7343  Alquiler de un 2 dormitorios  Departamento - C...   \n",
       "7344  Dos dormitorios -  Terraza propia c/asador -  ...   \n",
       "7345  En alquiler y Para volver al centro!! Semipiso...   \n",
       "7346                 2 DORMITORIOS | San Lorenzo al 100   \n",
       "7350  Venta de casa de cinco dormitorios y galpon en...   \n",
       "\n",
       "                                            description  property_type  \\\n",
       "7343  <br>López Baena Propiedades tiene 2 departamen...   Departamento   \n",
       "7344  Inmobiliaria Costamagna ofrece en alquiler est...   Departamento   \n",
       "7345  En alquiler un departamento donde te van a ent...   Departamento   \n",
       "7346  Alquiler temporario de Departamento 2 DORMITOR...   Departamento   \n",
       "7350  Importante propiedad ubicada en Barrio San Mar...           Casa   \n",
       "\n",
       "         operation_type     price  \n",
       "7343           Alquiler   12000.0  \n",
       "7344           Alquiler   15400.0  \n",
       "7345           Alquiler   20000.0  \n",
       "7346  Alquiler temporal    2300.0  \n",
       "7350              Venta  230000.0  \n",
       "\n",
       "[5 rows x 25 columns]"
      ]
     },
     "execution_count": 56,
     "metadata": {},
     "output_type": "execute_result"
    }
   ],
   "source": [
    "df_cordoba.head()"
   ]
  },
  {
   "cell_type": "code",
   "execution_count": 57,
   "id": "86e68f7c",
   "metadata": {},
   "outputs": [
    {
     "data": {
      "text/plain": [
       "<Axes: xlabel='operation_type'>"
      ]
     },
     "execution_count": 57,
     "metadata": {},
     "output_type": "execute_result"
    },
    {
     "data": {
      "image/png": "[encoded data removed]",
      "text/plain": [
       "<Figure size 640x480 with 1 Axes>"
      ]
     },
     "metadata": {},
     "output_type": "display_data"
    }
   ],
   "source": [
    "df_cordoba.operation_type.value_counts().plot(kind= 'bar')"
   ]
  },
  {
   "cell_type": "markdown",
   "id": "e459d11d",
   "metadata": {},
   "source": [
    "## Filtrando por Alquileres Cordoba capital"
   ]
  },
  {
   "cell_type": "code",
   "execution_count": 58,
   "id": "3222cc0e",
   "metadata": {},
   "outputs": [],
   "source": [
    "df_cordoba = df.query(\"l2 == 'Córdoba' and l3 == 'Córdoba' and operation_type == 'Alquiler'\")\n",
    "\n"
   ]
  },
  {
   "cell_type": "code",
   "execution_count": 59,
   "id": "76d2d473",
   "metadata": {},
   "outputs": [
    {
     "data": {
      "text/plain": [
       "l2\n",
       "Córdoba    1285\n",
       "Name: count, dtype: int64"
      ]
     },
     "execution_count": 59,
     "metadata": {},
     "output_type": "execute_result"
    }
   ],
   "source": [
    "df_cordoba.l2.value_counts()"
   ]
  },
  {
   "cell_type": "code",
   "execution_count": 60,
   "id": "ed9c93eb",
   "metadata": {},
   "outputs": [
    {
     "data": {
      "text/plain": [
       "property_type\n",
       "Departamento       1018\n",
       "Casa                109\n",
       "Local comercial      99\n",
       "Oficina              46\n",
       "Otro                  7\n",
       "Depósito              4\n",
       "Cochera               1\n",
       "PH                    1\n",
       "Name: count, dtype: int64"
      ]
     },
     "execution_count": 60,
     "metadata": {},
     "output_type": "execute_result"
    }
   ],
   "source": [
    "df_cordoba.property_type.value_counts()"
   ]
  },
  {
   "cell_type": "code",
   "execution_count": 61,
   "id": "e6a575ff",
   "metadata": {},
   "outputs": [
    {
     "data": {
      "text/plain": [
       "currency\n",
       "ARS    1269\n",
       "USD       8\n",
       "Name: count, dtype: int64"
      ]
     },
     "execution_count": 61,
     "metadata": {},
     "output_type": "execute_result"
    }
   ],
   "source": [
    "df_cordoba.currency.value_counts()"
   ]
  },
  {
   "cell_type": "code",
   "execution_count": 62,
   "id": "c7d49ce4",
   "metadata": {},
   "outputs": [
    {
     "name": "stderr",
     "output_type": "stream",
     "text": [
      "C:\\Users\\Marcos\\AppData\\Local\\Temp\\ipykernel_20968\\3345140699.py:1: SettingWithCopyWarning: \n",
      "A value is trying to be set on a copy of a slice from a DataFrame.\n",
      "Try using .loc[row_indexer,col_indexer] = value instead\n",
      "\n",
      "See the caveats in the documentation: https://pandas.pydata.org/pandas-docs/stable/user_guide/indexing.html#returning-a-view-versus-a-copy\n",
      "  df_cordoba['start_date'] = pd.to_datetime(df_cordoba['start_date'])\n"
     ]
    }
   ],
   "source": [
    "df_cordoba['start_date'] = pd.to_datetime(df_cordoba['start_date'])"
   ]
  },
  {
   "cell_type": "markdown",
   "id": "4c3d30bd",
   "metadata": {},
   "source": [
    "## Publicacion de propiedades por fecha"
   ]
  },
  {
   "cell_type": "code",
   "execution_count": 63,
   "id": "949e5a33",
   "metadata": {},
   "outputs": [
    {
     "data": {
      "text/plain": [
       "<Axes: xlabel='start_date'>"
      ]
     },
     "execution_count": 63,
     "metadata": {},
     "output_type": "execute_result"
    },
    {
     "data": {
      "image/png": "[encoded data removed]",
      "text/plain": [
       "<Figure size 640x480 with 1 Axes>"
      ]
     },
     "metadata": {},
     "output_type": "display_data"
    }
   ],
   "source": [
    "df_cordoba.start_date.value_counts().sort_index().plot()"
   ]
  },
  {
   "cell_type": "code",
   "execution_count": 64,
   "id": "9a12a931",
   "metadata": {},
   "outputs": [
    {
     "data": {
      "image/png": "[encoded data removed]",
      "text/plain": [
       "<Figure size 1200x800 with 2 Axes>"
      ]
     },
     "metadata": {},
     "output_type": "display_data"
    }
   ],
   "source": [
    "# Tabla pivot: cuenta cuántos registros hay por Año y Mes\n",
    "\n",
    "pivot_table = df_cordoba.groupby(\n",
    "    [df_cordoba['start_date'].dt.year, df_cordoba['start_date'].dt.month]\n",
    ").size().unstack(fill_value=0)\n",
    "\n",
    "plt.figure(figsize=(12, 8))\n",
    "sns.heatmap(pivot_table, annot=True, fmt='d', cmap='YlOrRd')\n",
    "\n",
    "plt.title('Heatmap: Frecuencia de alquileres en Córdoba por Año y Mes')\n",
    "plt.xlabel('Mes')\n",
    "plt.ylabel('Año')\n",
    "plt.show()"
   ]
  },
  {
   "cell_type": "markdown",
   "id": "7a44e4f0",
   "metadata": {},
   "source": [
    "## Precio medio de alquiler de propiedades por mes/año"
   ]
  },
  {
   "cell_type": "code",
   "execution_count": 65,
   "id": "1c0d5db0",
   "metadata": {},
   "outputs": [
    {
     "data": {
      "text/plain": [
       "<function matplotlib.pyplot.show(close=None, block=None)>"
      ]
     },
     "execution_count": 65,
     "metadata": {},
     "output_type": "execute_result"
    },
    {
     "data": {
      "image/png": "[encoded data removed]",
      "text/plain": [
       "<Figure size 1500x600 with 1 Axes>"
      ]
     },
     "metadata": {},
     "output_type": "display_data"
    }
   ],
   "source": [
    "monthly_avg = df_cordoba.groupby(df_cordoba['start_date'].dt.to_period('M'))['price'].mean()\n",
    "\n",
    "plt.figure(figsize=(15, 6))\n",
    "monthly_avg.plot(kind='line', marker='o')\n",
    "plt.title('Precio Medio por mes')\n",
    "plt.xlabel('Mes')\n",
    "plt.ylabel('Precio Medio')\n",
    "plt.grid(True, alpha =0.3)\n",
    "plt.show"
   ]
  },
  {
   "cell_type": "code",
   "execution_count": 66,
   "id": "94bc13b5",
   "metadata": {},
   "outputs": [
    {
     "name": "stdout",
     "output_type": "stream",
     "text": [
      "Estadísticas de precios por tipo de propiedad:\n",
      "                 count          mean   median           std      min       max\n",
      "property_type                                                                 \n",
      "Casa               109  26859.633028  22000.0  18968.068291      0.0  100000.0\n",
      "Cochera              1  14000.000000  14000.0           NaN  14000.0   14000.0\n",
      "Departamento      1018  13926.277014  12500.0   7623.504227      0.0  140000.0\n",
      "Depósito             4  48250.000000  55000.0  21108.844908  18000.0   65000.0\n",
      "Local comercial     99  35668.181818  22000.0  38190.839573      0.0  250000.0\n",
      "Oficina             46  20965.217391  16500.0  13747.358815   5000.0   60000.0\n",
      "Otro                 7  51857.142857  50000.0  21302.805538  25000.0   80000.0\n",
      "PH                   1  28000.000000  28000.0           NaN  28000.0   28000.0\n"
     ]
    }
   ],
   "source": [
    "# Estadísticas por tipo de propiedad\n",
    "stats_by_type = df_cordoba.groupby('property_type')['price'].agg(['count', 'mean', 'median', 'std', 'min', 'max'])\n",
    "print(\"Estadísticas de precios por tipo de propiedad:\")\n",
    "print(stats_by_type)\n"
   ]
  },
  {
   "cell_type": "code",
   "execution_count": 67,
   "id": "4bfd4aa8",
   "metadata": {},
   "outputs": [
    {
     "data": {
      "image/png": "[encoded data removed]",
      "text/plain": [
       "<Figure size 1200x800 with 1 Axes>"
      ]
     },
     "metadata": {},
     "output_type": "display_data"
    }
   ],
   "source": [
    "plt.figure(figsize=(12, 8))\n",
    "sns.boxplot(\n",
    "    data=df_cordoba[df_cordoba.price < 100000],\n",
    "    x='property_type',\n",
    "    y='price'\n",
    ")\n",
    "plt.title('Boxplot de precios por tipo de propiedad en Córdoba (<100k)')\n",
    "plt.xlabel('Tipo de Propiedad')\n",
    "plt.ylabel('Precio')\n",
    "plt.xticks(rotation=45)\n",
    "plt.show()\n"
   ]
  },
  {
   "cell_type": "code",
   "execution_count": 68,
   "id": "41b7e536",
   "metadata": {},
   "outputs": [
    {
     "name": "stdout",
     "output_type": "stream",
     "text": [
      "Total de propiedades caras: 44\n",
      "Porcentaje del total: 3.42%\n"
     ]
    }
   ],
   "source": [
    "# Filtrar propiedades caras en Córdoba\n",
    "df_caras = df_cordoba[df_cordoba['price'] > 50000]\n",
    "\n",
    "print(f\"Total de propiedades caras: {len(df_caras)}\")\n",
    "print(f\"Porcentaje del total: {(len(df_caras) / len(df_cordoba)) * 100:.2f}%\")\n"
   ]
  },
  {
   "cell_type": "code",
   "execution_count": 69,
   "id": "05923c4f",
   "metadata": {},
   "outputs": [
    {
     "name": "stdout",
     "output_type": "stream",
     "text": [
      "Total de propiedades caras: 5\n",
      "Porcentaje del total: 0.39%\n"
     ]
    }
   ],
   "source": [
    "df_caras = df_cordoba[df_cordoba['price'] > 100000]\n",
    "\n",
    "print(f\"Total de propiedades caras: {len(df_caras)}\")\n",
    "print(f\"Porcentaje del total: {(len(df_caras) / len(df_cordoba)) * 100:.2f}%\")\n"
   ]
  }
 ],
 "metadata": {
  "kernelspec": {
   "display_name": "Python 3",
   "language": "python",
   "name": "python3"
  },
  "language_info": {
   "codemirror_mode": {
    "name": "ipython",
    "version": 3
   },
   "file_extension": ".py",
   "mimetype": "text/x-python",
   "name": "python",
   "nbconvert_exporter": "python",
   "pygments_lexer": "ipython3",
   "version": "3.13.3"
  }
 },
 "nbformat": 4,
 "nbformat_minor": 5
}
